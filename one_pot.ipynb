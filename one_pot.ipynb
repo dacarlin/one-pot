{
 "cells": [
  {
   "cell_type": "code",
   "execution_count": 9,
   "metadata": {
    "collapsed": false
   },
   "outputs": [
    {
     "name": "stdout",
     "output_type": "stream",
     "text": [
      "14 exons of length 100\n"
     ]
    }
   ],
   "source": [
    "import screed \n",
    "\n",
    "# exons\n",
    "exon_length = 100\n",
    "for record in screed.open( '/Users/alex/Documents/bagel-orders/orders/20151027/bagel.fasta' ):\n",
    "    exons = [ record.sequence[n:n+exon_length] for n in range( 0, len( record.sequence ), exon_length ) ]\n",
    "    \n",
    "print '{} exons of length {}'.format( len( exons ), exon_length ) "
   ]
  },
  {
   "cell_type": "code",
   "execution_count": 21,
   "metadata": {
    "collapsed": false
   },
   "outputs": [
    {
     "name": "stdout",
     "output_type": "stream",
     "text": [
      "agaacacctttatctttccggcaacctttatgtggggcaccagcaccagcagctatcagattgaaggtggcaccgatgaaggtggtcayyyyyyyyyyyyyyyyyagnnnnnnnnnnnnnnnnxxxxxxxxxxxxxxxxxxxx (143-mer)\n",
      "aggggataccttttgtcagattccgggtaaagttattggtggtgattgtggtgatgttgcctgtgatcattttcaccactttaaagaayyyyyyyyyyyyyyyyyagnnnnnnnnnnnnnnnnxxxxxxxxxxxxxxxxxxxx (143-mer)\n",
      "aggaaacagctgggttttctgcattatcgttttagcgttgcatggcctcgtattatgcctgcagcaggtattatcaatgaagagggtayyyyyyyyyyyyyyyyyagnnnnnnnnnnnnnnnnxxxxxxxxxxxxxxxxxxxx (143-mer)\n",
      "agcatctgctggatgaaattgaactggcaggtctgattccgatgctgaccctgtatcattgggatctgccgcagtggattgaagatgayyyyyyyyyyyyyyyyyagnnnnnnnnnnnnnnnnxxxxxxxxxxxxxxxxxxxx (143-mer)\n",
      "agagcgtgaaaccattcagcatttcaaaacctatgccagcgttatcatggatcgttttggtgaacgtattaattggtggaacaccatayyyyyyyyyyyyyyyyyagnnnnnnnnnnnnnnnnxxxxxxxxxxxxxxxxxxxx (143-mer)\n",
      "agtgcaagcattctgggttatggcaccggtgaacatgcaccgggtcatgaaaattggcgtgaagcatttaccgcagcacatcatattayyyyyyyyyyyyyyyyyagnnnnnnnnnnnnnnnnxxxxxxxxxxxxxxxxxxxx (143-mer)\n",
      "agattgcaagcaacctgcataaagaaaaaggtctgaccggtaaaattggcattaccctgaatatggaacatgttgatgcagcaagcgayyyyyyyyyyyyyyyyyagnnnnnnnnnnnnnnnnxxxxxxxxxxxxxxxxxxxx (143-mer)\n",
      "agttgccgcagcaattcgtcgtgatggttttatcaatcgttggtttgcagaaccgctgttcaatggtaaatatcctgaagatatggtayyyyyyyyyyyyyyyyyagnnnnnnnnnnnnnnnnxxxxxxxxxxxxxxxxxxxx (143-mer)\n",
      "agctatctgaatggtctggattttgttcagcctggtgatatggaactgattcagcagccaggtgattttctgggcattaactattatayyyyyyyyyyyyyyyyyagnnnnnnnnnnnnnnnnxxxxxxxxxxxxxxxxxxxx (143-mer)\n",
      "agcgcagcaccaatgatgcaagcctgctgcaagttgaacaggttcacatggaagaaccggttaccgatatgggttgggaaattcatcayyyyyyyyyyyyyyyyyagnnnnnnnnnnnnnnnnxxxxxxxxxxxxxxxxxxxx (143-mer)\n",
      "agaactgctgacccgcattgaaaaagattttagcaaaggtctgccgatcctgattaccgaaaatggtgcagcaatgcgtgatgaactayyyyyyyyyyyyyyyyyagnnnnnnnnnnnnnnnnxxxxxxxxxxxxxxxxxxxx (143-mer)\n",
      "agcgaagataccggtcgtcatggttatattgaagaacatctgaaagcctgccaccgctttatcgaagaaggtggccagctgaaaggtayyyyyyyyyyyyyyyyyagnnnnnnnnnnnnnnnnxxxxxxxxxxxxxxxxxxxx (143-mer)\n",
      "agtttctggataactttgaatgggcatggggttatagcaaacgttttggtattgtccacatcaactatgaaacccaagaacgcacccayyyyyyyyyyyyyyyyyagnnnnnnnnnnnnnnnnxxxxxxxxxxxxxxxxxxxx (143-mer)\n",
      "agtgtggtttaaacaaatgatggccaaaaatggttayyyyyyyyyyyyyyyyyagnnnnnnnnnnnnnnnnxxxxxxxxxxxxxxxxxxxx (91-mer)\n"
     ]
    }
   ],
   "source": [
    "front_flank = 'ag'\n",
    "gibson_overhang = 'xxxxxxxxxxxxxxx' # last 15 bp of the exon\n",
    "end_flank = 'ayyyyyyyyyyyyyyyyyag' # example: atcttcctcctctcttctcag \n",
    "barcode = 'nnnnnnnnnnnnnnnn' # barcodes are ordered randomized from IDT \n",
    "product_inducible_promoter = 'xxxxxxxxxxxxxxxxxxxx' # 20-mer promoter inducible by enzyme product (pBAD)\n",
    "                                                    # implies that enzyme product is arabinose\n",
    "                                                    # implies that the substrate is β-D-arabinopyranosyl-(1→4)-D-glucose\n",
    "#order these from idt as \n",
    "#print gibson_overhang + end_flank + barcode + product_inducible_promoter , \n",
    "#print '({}-mer)'.format( len( gibson_overhang + end_flank + barcode + product_inducible_promoter ) )\n",
    "\n",
    "# in order words, order \n",
    "for exon in exons:\n",
    "    print front_flank + exon[:-15] + end_flank + barcode + product_inducible_promoter , \n",
    "    print '({}-mer)'.format( len( front_flank + exon[:-15] + end_flank + barcode + product_inducible_promoter ) )"
   ]
  },
  {
   "cell_type": "code",
   "execution_count": null,
   "metadata": {
    "collapsed": true
   },
   "outputs": [],
   "source": []
  }
 ],
 "metadata": {
  "kernelspec": {
   "display_name": "Python 2",
   "language": "python",
   "name": "python2"
  },
  "language_info": {
   "codemirror_mode": {
    "name": "ipython",
    "version": 2
   },
   "file_extension": ".py",
   "mimetype": "text/x-python",
   "name": "python",
   "nbconvert_exporter": "python",
   "pygments_lexer": "ipython2",
   "version": "2.7.10"
  }
 },
 "nbformat": 4,
 "nbformat_minor": 0
}
